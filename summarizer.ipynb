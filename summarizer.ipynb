{
  "nbformat": 4,
  "nbformat_minor": 0,
  "metadata": {
    "colab": {
      "name": "Untitled1.ipynb",
      "provenance": [],
      "collapsed_sections": []
    },
    "kernelspec": {
      "name": "python3",
      "display_name": "Python 3"
    }
  },
  "cells": [
    {
      "cell_type": "code",
      "metadata": {
        "id": "4DJfzdftS498",
        "colab_type": "code",
        "colab": {}
      },
      "source": [
        "# Installing nltk and newspaper 3k libraries\n",
        "#pip install nltk\n",
        "#pip install newspaper3k\n"
      ],
      "execution_count": 0,
      "outputs": []
    },
    {
      "cell_type": "code",
      "metadata": {
        "id": "jJtru647URLl",
        "colab_type": "code",
        "colab": {}
      },
      "source": [
        "#Importing the above libraries\n",
        "import nltk\n",
        "from newspaper import Article\n"
      ],
      "execution_count": 0,
      "outputs": []
    },
    {
      "cell_type": "code",
      "metadata": {
        "id": "PQPqMwrTUoXS",
        "colab_type": "code",
        "colab": {}
      },
      "source": [
        "# Getting the url of the reqired article\n",
        "url = 'https://www.bbc.com/news/world-south-asia-51638345'\n",
        "article = Article(url)"
      ],
      "execution_count": 0,
      "outputs": []
    },
    {
      "cell_type": "code",
      "metadata": {
        "id": "NrUzG6qwUssK",
        "colab_type": "code",
        "colab": {
          "base_uri": "https://localhost:8080/",
          "height": 51
        },
        "outputId": "6313843d-9818-4e8a-a449-62632267de97"
      },
      "source": [
        "# Performing NLP\n",
        "article.download()\n",
        "article.parse()\n",
        "nltk.download('punkt')\n",
        "article.nlp()"
      ],
      "execution_count": 181,
      "outputs": [
        {
          "output_type": "stream",
          "text": [
            "[nltk_data] Downloading package punkt to /root/nltk_data...\n",
            "[nltk_data]   Package punkt is already up-to-date!\n"
          ],
          "name": "stdout"
        }
      ]
    },
    {
      "cell_type": "code",
      "metadata": {
        "id": "54FWZ-KYUxdO",
        "colab_type": "code",
        "colab": {
          "base_uri": "https://localhost:8080/",
          "height": 34
        },
        "outputId": "65418b6b-be88-4577-b194-858fe6fbd2b8"
      },
      "source": [
        "# Getting Authors\n",
        "article.authors"
      ],
      "execution_count": 182,
      "outputs": [
        {
          "output_type": "execute_result",
          "data": {
            "text/plain": [
              "['Vikas Pandey', 'Bbc News']"
            ]
          },
          "metadata": {
            "tags": []
          },
          "execution_count": 182
        }
      ]
    },
    {
      "cell_type": "code",
      "metadata": {
        "id": "KUiYV_k-WQMZ",
        "colab_type": "code",
        "colab": {}
      },
      "source": [
        "#Get the publish date\n",
        "article.publish_date"
      ],
      "execution_count": 0,
      "outputs": []
    },
    {
      "cell_type": "code",
      "metadata": {
        "id": "LcMRbXFTWT-y",
        "colab_type": "code",
        "colab": {
          "base_uri": "https://localhost:8080/",
          "height": 34
        },
        "outputId": "2ed9c236-bcfa-4662-e1c3-b618b0609413"
      },
      "source": [
        "# Getting Top Image\n",
        "article.top_image"
      ],
      "execution_count": 184,
      "outputs": [
        {
          "output_type": "execute_result",
          "data": {
            "text/plain": [
              "'https://ichef.bbci.co.uk/news/1024/branded_news/1953/production/_111038460_gettyimages-1202945091.jpg'"
            ]
          },
          "metadata": {
            "tags": []
          },
          "execution_count": 184
        }
      ]
    },
    {
      "cell_type": "code",
      "metadata": {
        "id": "dL526EsjWcnJ",
        "colab_type": "code",
        "colab": {
          "base_uri": "https://localhost:8080/",
          "height": 1000
        },
        "outputId": "a48bcfd4-8925-464e-e2b4-9a49cd7e67e4"
      },
      "source": [
        "# Getting Article Text\n",
        "print(article.text)"
      ],
      "execution_count": 185,
      "outputs": [
        {
          "output_type": "stream",
          "text": [
            "Image copyright Getty Images\n",
            "\n",
            "US President Donald Trump expected 10 million people to welcome him in India on his first state visit. It didn't happen, but everything else seems to have gone according to the script.\n",
            "\n",
            "The optics of the trip were crucial both for him and Indian Prime Minister Narendra Modi.\n",
            "\n",
            "Mr Trump wanted to show people in the US that he was hugely popular abroad and that he was capable of negotiating good deals out of a country he once described as the \"king of tariffs\".\n",
            "\n",
            "On the other hand, the Indian PM desperately needed some good headlines after being under the spotlight due to his controversial decision to revoke Kashmir's autonomy and the ongoing protests against his new citizenship law.\n",
            "\n",
            "In the end, both leaders had their wishes fulfilled despite not agreeing on a much talked-about trade agreement.\n",
            "\n",
            "Looking beyond the song and dance and pleasantries, here are some of the key diplomatic takeaways.\n",
            "\n",
            "Good optics\n",
            "\n",
            "The first day of the visit was all about optics - tens of thousands, if not ten million, lined up the streets to greet him on his way from the Ahmedabad airport to the Motera cricket stadium in Gujarat, the home state of Mr Modi.\n",
            "\n",
            "At the stadium, he addressed more than 100,000 people. He evoked Bollywood, cricket and saints - good enough topics to get Indians interested.\n",
            "\n",
            "It was a good speech - not just for the people in the stadium but also for his election campaign back home. The videos from the \"Namaste (hello) Trump\" event have already been used by his campaign.\n",
            "\n",
            "Media playback is unsupported on your device Media caption Why Trump's India visit matters\n",
            "\n",
            "And he also said some soothing words for Mr Modi. Tanvi Madan, senior fellow at the Brookings Institution, says the trip will help Mr Modi fight negative headlines.\n",
            "\n",
            "\"Mr Trump described him as a calm person, a great leader and somebody who works for his people. Mr Modi will take these compliments happily,\" she says.\n",
            "\n",
            "These words matter - specially at a time when Mr Modi's leadership is being questioned after violent protests over the citizenship act killed at least 13 people in Delhi in recent days.\n",
            "\n",
            "The deal that didn't happen\n",
            "\n",
            "A trade deal was always going to be tough given the two countries were engaged in a bitter tariff war just last year. Mr Trump would have loved to sign a deal that would help bridge the US $25.2bn (£19.3bn) trade deficit with India.\n",
            "\n",
            "But Ms Madan says it's not all doom and gloom.\n",
            "\n",
            "\"The visit will at least push India down the trade hit list of the Trump administration as negotiations continue for the trade deal,\" she says.\n",
            "\n",
            "Ms Madan believes that the visit has been a success because \"you can't expect a nuclear deal every time\". She adds that Mr Trump is known to be unpredictable but he has \"largely stayed with the script this time\".\n",
            "\n",
            "And it was important. There have been concerns that Delhi was losing bipartisan support in the US and it didn't have many \"India champions\" in the Trump administration.\n",
            "\n",
            "Image copyright Getty Images Image caption The two leaders held an unusual joint rally in Houston, Texas, in 2019, dubbed \"Howdy, Modi\"\n",
            "\n",
            "Pratyush Rao, associate director at the Control Risks consultancy, says that all has not been well between the two countries in recent years.\n",
            "\n",
            "\"There has been a perception that India-US relations have been adrift for a while. There has been a lack in the ownership of the India file in the Trump administration,\" he adds.\n",
            "\n",
            "And there can't be a better showcase than a presidential visit to give an impetus to the relationship.\n",
            "\n",
            "Deals that happened\n",
            "\n",
            "Mr Trump loves deals and he got a few to boast about when he lands in the US.\n",
            "\n",
            "India is buying attack helicopters and other US military equipment worth $3bn. And another deal with Exxon Mobil will see India importing more Liquified Natural Gas (LNG) from the US. Both were easy giveaways for India.\n",
            "\n",
            "\"India needs energy security to feed its growth and it had been looking to diversify its petroleum import portfolio anyway, so this one fits in,\" Mr Rao adds.\n",
            "\n",
            "India still imports a majority of its defence equipment and Russia owns more than 50% of the pie. Mr Rao says it doesn't harm India to diversify its defence portfolio as long as it can keep Moscow on its side.\n",
            "\n",
            "Swipes at China\n",
            "\n",
            "Mr Trump subtly criticised China without naming the country at least a couple of times.\n",
            "\n",
            "He repeated Washington's doubts over the security of Chinese tech giant Huawei's 5G technology - without saying so explicitly.\n",
            "\n",
            "\"During our visit we discussed the importance of a secure 5G wireless network and the need for this emerging technology to be a tool for freedom, progress, prosperity, not to do anything with where it could be even conceived as a conduit for suppression and censorship,\" Mr Trump said.\n",
            "\n",
            "Michael Kugelman, deputy director at the The Wilson Center, says the president's statement was not surprising.\n",
            "\n",
            "\"China really looms large in this relationship. You can talk about shared values, the Modi-Trump friendship, but it's really the converging interests that bring the two countries together,\" he says. \"Both countries see China as a concern.\"\n",
            "\n",
            "And Mr Trump again called the region Indo-Pacific instead of Asia Pacific as China would prefer.\n",
            "\n",
            "He also mentioned \"the quad\" and the Blue Dot project. The project, led and launched by Washington, is meant to bring the governments and the private sectors of the US, Australia and Japan together. It won't be complete without India's cooperation.\n",
            "\n",
            "\"The quad has ebbed and flowed. But over the last years, there has been efforts to bring it back in the limelight and Mr Trump's mention of the project in India is a significant step to revive it,\" Mr Kugelman adds.\n",
            "\n",
            "The risk for India involves antagonising China, which sees the quad as a counter to its own Belt and Road initiative. But Mr Kugelman says such apprehensions seems to have been cast aside for now.\n",
            "\n",
            "Kashmir and Pakistan\n",
            "\n",
            "Mentioning Pakistan and Kashmir is a line foreign leaders try not to cross when visiting India - but Mr Trump did. He said he had excellent relations with Pakistani PM Imran Khan and once again offered to mediate in the Kashmir issue.\n",
            "\n",
            "Mr Modi can live with that, says Mr Rao.\n",
            "\n",
            "\"The Indian side will see these as minor digressions, specially given the fact that Mr Trump was so effusive in praising Mr Modi.\"\n",
            "\n",
            "Mr Trump also refused to comment on the ongoing protests and religious intolerance. In fact, he went a step further than expected. He praised Mr Modi's efforts in giving religious freedom to every community in India.\n",
            "\n",
            "Image copyright Getty Images Image caption Not everyone was pleased with Mr Trump's visit - some activists protested his arrival\n",
            "\n",
            "That very much offset any discomfort Indians may have had after the mention of Pakistan and Kashmir.\n",
            "\n",
            "What lies ahead\n",
            "\n",
            "The unpredictability of the Trump administration is the biggest risk in the relationship.\n",
            "\n",
            "And then there are other headwinds as well.\n",
            "\n",
            "\"The slowdown of the economy in India, growing social unrest and the expected global slowdown because of the coronavirus may cast shadows on the relationship,\" Ms Madan adds.\n",
            "\n",
            "Japanese PM Shinzo Abe also pulled out all the stops to keep Mr Trump on his side, but that didn't stop the US president from berating Japan.\n",
            "\n",
            "For now, however, India has done well.\n",
            "\n",
            "Image copyright Getty Images\n",
            "\n",
            "Mr Modi needs to keep Mr Trump on its side for strategic and security reasons - the grand welcome he accorded the US president showed how serious he is about the relationship.\n",
            "\n",
            "But the immediate future of the relationship depends on the upcoming US presidential elections.\n",
            "\n",
            "Mr Trump and Mr Modi's \"bromance\" was on full display in this visit and that has very much become the cornerstone of the relationship between the two countries.\n",
            "\n",
            "India will find it easier to deal with a leader it has already invested in, hoping Mr Trump's unpredictable nature won't harm the relationship.\n",
            "\n",
            "\"Mr Trump wanted a big crowd and a larger-than-life spectacle and India gave him that,\" says Mr Rao. \"Now let's see how long the impact of the spectacle lasts.\"\n"
          ],
          "name": "stdout"
        }
      ]
    },
    {
      "cell_type": "code",
      "metadata": {
        "id": "aR_wE3HEWfUt",
        "colab_type": "code",
        "colab": {
          "base_uri": "https://localhost:8080/",
          "height": 102
        },
        "outputId": "fd9e677c-244f-464d-8e54-bee9d7071ff9"
      },
      "source": [
        "# Article  Summary\n",
        "print(article.summary)"
      ],
      "execution_count": 187,
      "outputs": [
        {
          "output_type": "stream",
          "text": [
            "Media playback is unsupported on your device Media caption Why Trump's India visit mattersAnd he also said some soothing words for Mr Modi.\n",
            "Tanvi Madan, senior fellow at the Brookings Institution, says the trip will help Mr Modi fight negative headlines.\n",
            "She adds that Mr Trump is known to be unpredictable but he has \"largely stayed with the script this time\".\n",
            "\"The Indian side will see these as minor digressions, specially given the fact that Mr Trump was so effusive in praising Mr Modi.\"\n",
            "\"Mr Trump wanted a big crowd and a larger-than-life spectacle and India gave him that,\" says Mr Rao.\n"
          ],
          "name": "stdout"
        }
      ]
    }
  ]
}